{
 "cells": [
  {
   "cell_type": "code",
   "execution_count": 1,
   "metadata": {
    "_cell_guid": "b1076dfc-b9ad-4769-8c92-a6c4dae69d19",
    "_uuid": "8f2839f25d086af736a60e9eeb907d3b93b6e0e5",
    "execution": {
     "iopub.execute_input": "2020-10-06T05:20:57.752019Z",
     "iopub.status.busy": "2020-10-06T05:20:57.751264Z",
     "iopub.status.idle": "2020-10-06T05:21:05.004723Z",
     "shell.execute_reply": "2020-10-06T05:21:05.003893Z"
    },
    "papermill": {
     "duration": 7.29384,
     "end_time": "2020-10-06T05:21:05.004880",
     "exception": false,
     "start_time": "2020-10-06T05:20:57.711040",
     "status": "completed"
    },
    "tags": []
   },
   "outputs": [],
   "source": [
    "import os\n",
    "import seaborn as sns\n",
    "import matplotlib.pyplot as plt\n",
    "%matplotlib inline\n",
    "from sklearn.linear_model import LinearRegression,Ridge,Lasso\n",
    "from sklearn.svm import SVR,LinearSVR\n",
    "from sklearn.model_selection import cross_val_score,GridSearchCV\n",
    "from sklearn.feature_selection import RFECV\n",
    "from sklearn.metrics import mean_squared_error\n",
    "from sklearn.model_selection import KFold\n",
    "import numpy as np\n",
    "import pandas as pd\n",
    "from glob import glob\n",
    "from copy import deepcopy\n",
    "import lightgbm as lgb\n",
    "# import keras\n",
    "import tensorflow as tf\n",
    "from tqdm.auto import tqdm\n",
    "import optuna\n",
    "from scipy.optimize import minimize,minimize_scalar\n",
    "# import h2o\n",
    "# from h2o.automl import H2OAutoML\n",
    "# h2o.init()"
   ]
  },
  {
   "cell_type": "code",
   "execution_count": 2,
   "metadata": {
    "_cell_guid": "79c7e3d0-c299-4dcb-8224-4455121ee9b0",
    "_uuid": "d629ff2d2480ee46fbb7e2d37f6b5fab8052498a",
    "execution": {
     "iopub.execute_input": "2020-10-06T05:21:05.060520Z",
     "iopub.status.busy": "2020-10-06T05:21:05.059729Z",
     "iopub.status.idle": "2020-10-06T05:21:05.841640Z",
     "shell.execute_reply": "2020-10-06T05:21:05.840963Z"
    },
    "papermill": {
     "duration": 0.811919,
     "end_time": "2020-10-06T05:21:05.841786",
     "exception": false,
     "start_time": "2020-10-06T05:21:05.029867",
     "status": "completed"
    },
    "tags": []
   },
   "outputs": [],
   "source": [
    "train = pd.read_json('../input/stanford-covid-vaccine/train.json',lines=True).drop('index',axis=1)\n",
    "label = np.load('../input/covid19fe/label.npy')\n",
    "# SN_filter = np.where((train.SN_filter == 1).values)[0]\n",
    "SN_filter = np.where((train.SN_filter == 1).values & (train.signal_to_noise>1))[0]"
   ]
  },
  {
   "cell_type": "code",
   "execution_count": 3,
   "metadata": {
    "execution": {
     "iopub.execute_input": "2020-10-06T05:21:05.897167Z",
     "iopub.status.busy": "2020-10-06T05:21:05.896534Z",
     "iopub.status.idle": "2020-10-06T05:21:05.901237Z",
     "shell.execute_reply": "2020-10-06T05:21:05.901810Z"
    },
    "papermill": {
     "duration": 0.035709,
     "end_time": "2020-10-06T05:21:05.901956",
     "exception": false,
     "start_time": "2020-10-06T05:21:05.866247",
     "status": "completed"
    },
    "tags": []
   },
   "outputs": [],
   "source": [
    "y1 = label[SN_filter,:68,0].reshape(-1)\n",
    "y2 = label[SN_filter,:68,1].reshape(-1)\n",
    "y3 = label[SN_filter,:68,2].reshape(-1)"
   ]
  },
  {
   "cell_type": "code",
   "execution_count": 4,
   "metadata": {
    "execution": {
     "iopub.execute_input": "2020-10-06T05:21:05.961207Z",
     "iopub.status.busy": "2020-10-06T05:21:05.960506Z",
     "iopub.status.idle": "2020-10-06T05:21:06.242276Z",
     "shell.execute_reply": "2020-10-06T05:21:06.242904Z"
    },
    "papermill": {
     "duration": 0.314379,
     "end_time": "2020-10-06T05:21:06.243060",
     "exception": false,
     "start_time": "2020-10-06T05:21:05.928681",
     "status": "completed"
    },
    "tags": []
   },
   "outputs": [
    {
     "data": {
      "text/plain": [
       "['../input/ensemble-predictions/oof_0.19768.npy',\n",
       " '../input/ensemble-predictions/oof_0.19798.npy',\n",
       " '../input/ensemble-predictions/oof_0.19868.npy',\n",
       " '../input/ensemble-predictions/oof_0.19886.npy',\n",
       " '../input/ensemble-predictions/oof_0.19926.npy',\n",
       " '../input/ensemble-predictions/oof_0.19936.npy',\n",
       " '../input/ensemble-predictions/oof_0.19949.npy',\n",
       " '../input/ensemble-predictions/oof_0.19983.npy',\n",
       " '../input/ensemble-predictions/oof_0.19985.npy',\n",
       " '../input/ensemble-predictions/oof_0.19999.npy',\n",
       " '../input/ensemble-predictions/oof_0.20047.npy',\n",
       " '../input/ensemble-predictions/oof_0.20053.npy',\n",
       " '../input/ensemble-predictions/oof_0.20075.npy',\n",
       " '../input/ensemble-predictions/oof_0.20087.npy',\n",
       " '../input/ensemble-predictions/oof_0.20092.npy',\n",
       " '../input/ensemble-predictions/oof_0.20117.npy',\n",
       " '../input/ensemble-predictions/oof_0.20145.npy',\n",
       " '../input/ensemble-predictions/oof_0.20283.npy',\n",
       " '../input/ensemble-predictions/oof_0.20305.npy',\n",
       " '../input/ensemble-predictions/oof_0.20328.npy',\n",
       " '../input/ensemble-predictions/oof_0.20378.npy',\n",
       " '../input/ensemble-predictions/oof_0.20384.npy',\n",
       " '../input/ensemble-predictions/oof_0.20388.npy',\n",
       " '../input/ensemble-predictions/oof_0.20390.npy',\n",
       " '../input/ensemble-predictions/oof_0.20423.npy',\n",
       " '../input/ensemble-predictions/oof_0.20525.npy',\n",
       " '../input/ensemble-predictions/oof_0.20591.npy',\n",
       " '../input/ensemble-predictions/oof_0.20759.npy',\n",
       " '../input/ensemble-predictions/oof_0.20763.npy',\n",
       " '../input/ensemble-predictions/oof_0.20794.npy',\n",
       " '../input/ensemble-predictions/oof_0.22935.npy',\n",
       " '../input/ensemble-predictions/oof_dangerous_0.20517.npy',\n",
       " '../input/ensemble-predictions/oof_dangerous_0.20971.npy']"
      ]
     },
     "execution_count": 4,
     "metadata": {},
     "output_type": "execute_result"
    }
   ],
   "source": [
    "oofs = []\n",
    "paths = sorted(glob(\"../input/ensemble-predictions/*.npy\"))[:-2]\n",
    "\n",
    "for path in paths:\n",
    "    oofs.append(np.load(path))\n",
    "    if len(oofs[-1]) == 2400:\n",
    "        oofs[-1] = oofs[-1][SN_filter]\n",
    "    elif len(oofs[-1]) == 1589:\n",
    "        oofs[-1] = oofs[-1][train[train.SN_filter == 1].signal_to_noise>1]\n",
    "paths"
   ]
  },
  {
   "cell_type": "code",
   "execution_count": 5,
   "metadata": {
    "execution": {
     "iopub.execute_input": "2020-10-06T05:21:06.303890Z",
     "iopub.status.busy": "2020-10-06T05:21:06.303176Z",
     "iopub.status.idle": "2020-10-06T05:21:06.433721Z",
     "shell.execute_reply": "2020-10-06T05:21:06.434269Z"
    },
    "papermill": {
     "duration": 0.165102,
     "end_time": "2020-10-06T05:21:06.434424",
     "exception": false,
     "start_time": "2020-10-06T05:21:06.269322",
     "status": "completed"
    },
    "tags": []
   },
   "outputs": [],
   "source": [
    "X1 = np.concatenate([x[:,:,0].reshape(-1,1) for x in oofs],axis=-1)\n",
    "X2 = np.concatenate([x[:,:,1].reshape(-1,1) for x in oofs],axis=-1)\n",
    "X3 = np.concatenate([x[:,:,2].reshape(-1,1) for x in oofs],axis=-1)"
   ]
  },
  {
   "cell_type": "code",
   "execution_count": 6,
   "metadata": {
    "execution": {
     "iopub.execute_input": "2020-10-06T05:21:06.509138Z",
     "iopub.status.busy": "2020-10-06T05:21:06.508320Z",
     "iopub.status.idle": "2020-10-06T05:21:06.511736Z",
     "shell.execute_reply": "2020-10-06T05:21:06.510994Z"
    },
    "papermill": {
     "duration": 0.051258,
     "end_time": "2020-10-06T05:21:06.511858",
     "exception": false,
     "start_time": "2020-10-06T05:21:06.460600",
     "status": "completed"
    },
    "tags": []
   },
   "outputs": [],
   "source": [
    "def feature_selection(X,y,useindex):\n",
    "#     clf = LinearRegression(fit_intercept = False)\n",
    "    clf = Ridge(alpha=80,fit_intercept = False,normalize=True)\n",
    "    idx = []\n",
    "    for j in range(X.shape[-1]):\n",
    "        if j in useindex:\n",
    "            idx.append(j)\n",
    "    base_score = -cross_val_score(clf, X[:,idx], y, cv=5,scoring = 'neg_root_mean_squared_error').mean()\n",
    "    score = []\n",
    "    for i in range(X.shape[-1]):\n",
    "        if i not in useindex:\n",
    "            score.append(99999)\n",
    "            continue\n",
    "        idx = []\n",
    "        for j in range(X.shape[-1]):\n",
    "            if j in useindex:\n",
    "                if j != i:\n",
    "                    idx.append(j)\n",
    "        cv_score = -cross_val_score(clf, X[:,idx], y, cv=5,scoring = 'neg_root_mean_squared_error').mean()\n",
    "        score.append(cv_score)\n",
    "    score = np.array(score)\n",
    "    if score.min() < base_score:\n",
    "        i = score.argmin()\n",
    "        print(i,score.min())\n",
    "        idx = []\n",
    "        for j in range(X.shape[-1]):\n",
    "            if j in useindex:\n",
    "                if j != i:\n",
    "                    idx.append(j)\n",
    "        return feature_selection(X,y,idx)\n",
    "    else:\n",
    "        return useindex"
   ]
  },
  {
   "cell_type": "code",
   "execution_count": 7,
   "metadata": {
    "execution": {
     "iopub.execute_input": "2020-10-06T05:21:06.569114Z",
     "iopub.status.busy": "2020-10-06T05:21:06.568425Z",
     "iopub.status.idle": "2020-10-06T05:21:55.421278Z",
     "shell.execute_reply": "2020-10-06T05:21:55.420613Z"
    },
    "papermill": {
     "duration": 48.88369,
     "end_time": "2020-10-06T05:21:55.421400",
     "exception": false,
     "start_time": "2020-10-06T05:21:06.537710",
     "status": "completed"
    },
    "tags": []
   },
   "outputs": [
    {
     "name": "stdout",
     "output_type": "stream",
     "text": [
      "19 0.170607020303081\n",
      "22 0.17059687422893752\n",
      "14 0.17058796289744574\n",
      "29 0.1705808122532694\n",
      "2 0.17057484267278675\n",
      "13 0.17056975807928582\n",
      "12 0.17056404161432953\n",
      "20 0.17055938022509315\n",
      "23 0.17055589497430163\n",
      "15 0.17055199058513937\n",
      "21 0.17054730148401373\n",
      "27 0.1705434203925836\n",
      "6 0.17054096305800562\n",
      "28 0.17053983312049675\n"
     ]
    }
   ],
   "source": [
    "select_col1 = feature_selection(X1,y1,np.arange(X1.shape[-1]))"
   ]
  },
  {
   "cell_type": "code",
   "execution_count": 8,
   "metadata": {
    "execution": {
     "iopub.execute_input": "2020-10-06T05:21:55.522418Z",
     "iopub.status.busy": "2020-10-06T05:21:55.521695Z",
     "iopub.status.idle": "2020-10-06T05:22:39.731231Z",
     "shell.execute_reply": "2020-10-06T05:22:39.730502Z"
    },
    "papermill": {
     "duration": 44.262636,
     "end_time": "2020-10-06T05:22:39.731359",
     "exception": false,
     "start_time": "2020-10-06T05:21:55.468723",
     "status": "completed"
    },
    "tags": []
   },
   "outputs": [
    {
     "name": "stdout",
     "output_type": "stream",
     "text": [
      "15 0.2160290456130412\n",
      "27 0.21601239123539603\n",
      "21 0.2159909830522186\n",
      "6 0.2159775059683736\n",
      "29 0.2159639903024519\n",
      "11 0.21595150672816849\n",
      "13 0.2159450650514892\n",
      "23 0.21594088349984783\n",
      "24 0.21594033284464142\n",
      "20 0.21594021031817193\n",
      "12 0.21593916666737506\n"
     ]
    }
   ],
   "source": [
    "select_col2 = feature_selection(X2,y2,np.arange(X2.shape[-1]))"
   ]
  },
  {
   "cell_type": "code",
   "execution_count": 9,
   "metadata": {
    "execution": {
     "iopub.execute_input": "2020-10-06T05:22:39.870888Z",
     "iopub.status.busy": "2020-10-06T05:22:39.870071Z",
     "iopub.status.idle": "2020-10-06T05:23:25.059567Z",
     "shell.execute_reply": "2020-10-06T05:23:25.058765Z"
    },
    "papermill": {
     "duration": 45.259927,
     "end_time": "2020-10-06T05:23:25.059717",
     "exception": false,
     "start_time": "2020-10-06T05:22:39.799790",
     "status": "completed"
    },
    "tags": []
   },
   "outputs": [
    {
     "name": "stdout",
     "output_type": "stream",
     "text": [
      "13 0.1748560955711294\n",
      "32 0.1748374061356097\n",
      "20 0.17482308130172602\n",
      "31 0.17480968620346388\n",
      "17 0.1747983129494345\n",
      "21 0.17479077401345172\n",
      "24 0.1747847000929839\n",
      "5 0.17477997742942514\n",
      "26 0.17477855517605892\n",
      "15 0.17477784250159295\n",
      "25 0.1747775692136326\n"
     ]
    }
   ],
   "source": [
    "select_col3 = feature_selection(X3,y3,np.arange(X3.shape[-1]))"
   ]
  },
  {
   "cell_type": "code",
   "execution_count": 10,
   "metadata": {
    "execution": {
     "iopub.execute_input": "2020-10-06T05:23:25.242766Z",
     "iopub.status.busy": "2020-10-06T05:23:25.241164Z",
     "iopub.status.idle": "2020-10-06T05:23:31.709312Z",
     "shell.execute_reply": "2020-10-06T05:23:31.708245Z"
    },
    "papermill": {
     "duration": 6.560713,
     "end_time": "2020-10-06T05:23:31.709453",
     "exception": false,
     "start_time": "2020-10-06T05:23:25.148740",
     "status": "completed"
    },
    "tags": []
   },
   "outputs": [
    {
     "name": "stdout",
     "output_type": "stream",
     "text": [
      "Optimization terminated successfully.\n",
      "         Current function value: 0.170567\n",
      "         Iterations: 30\n",
      "         Function evaluations: 72\n"
     ]
    },
    {
     "data": {
      "text/plain": [
       "array([102.88025856])"
      ]
     },
     "execution_count": 10,
     "metadata": {},
     "output_type": "execute_result"
    }
   ],
   "source": [
    "res = minimize(lambda x: np.sqrt(cross_val_score(Ridge(alpha=x,fit_intercept = False,normalize=True), X1[:,select_col1], y1, cv=5,scoring = lambda estimator,x,y: ((estimator.predict(x)-y)**2).mean()).mean())\n",
    ", [100], method='nelder-mead',options={'xatol': 1e-8, 'disp': True})\n",
    "clf1 = Ridge(alpha=res.x,fit_intercept = False,normalize=True)\n",
    "\n",
    "# res = minimize_scalar(lambda x: np.sqrt(cross_val_score(LinearSVR(C=x,fit_intercept=False,dual=False,loss='squared_epsilon_insensitive'), X1[:,select_col1], y1, cv=5,scoring = lambda estimator,x,y: ((estimator.predict(x)-y)**2).mean()).mean())\n",
    "# , [1.0], method='Bounded',bounds=(0.0,1e3),options={'xatol': 1e-8, 'disp': True})\n",
    "# clf1 = LinearSVR(C=res.x,fit_intercept=False,dual=False,loss='squared_epsilon_insensitive')\n",
    "\n",
    "res.x"
   ]
  },
  {
   "cell_type": "code",
   "execution_count": 11,
   "metadata": {
    "execution": {
     "iopub.execute_input": "2020-10-06T05:23:31.891627Z",
     "iopub.status.busy": "2020-10-06T05:23:31.890002Z",
     "iopub.status.idle": "2020-10-06T05:23:31.937548Z",
     "shell.execute_reply": "2020-10-06T05:23:31.936779Z"
    },
    "papermill": {
     "duration": 0.141648,
     "end_time": "2020-10-06T05:23:31.937686",
     "exception": false,
     "start_time": "2020-10-06T05:23:31.796038",
     "status": "completed"
    },
    "tags": []
   },
   "outputs": [
    {
     "data": {
      "text/plain": [
       "(array([ 0.07889855,  0.12394121,  0.09904248,  0.04140526,  0.04131426,\n",
       "         0.08080825,  0.07182798,  0.08400228,  0.08865465,  0.0761471 ,\n",
       "         0.07470103,  0.06886259,  0.04044809,  0.04563309, -0.02170371,\n",
       "         0.0673007 , -0.06755744,  0.04933872, -0.0270002 ]),\n",
       " 0.0)"
      ]
     },
     "execution_count": 11,
     "metadata": {},
     "output_type": "execute_result"
    }
   ],
   "source": [
    "clf1.fit(X1[:,select_col1],y1)\n",
    "y1_pred = clf1.predict(X1[:,select_col1])\n",
    "l1_weights = clf1.coef_\n",
    "l1_intercept = clf1.intercept_\n",
    "l1_weights,l1_intercept"
   ]
  },
  {
   "cell_type": "code",
   "execution_count": 12,
   "metadata": {
    "execution": {
     "iopub.execute_input": "2020-10-06T05:23:32.125528Z",
     "iopub.status.busy": "2020-10-06T05:23:32.124741Z",
     "iopub.status.idle": "2020-10-06T05:23:39.355793Z",
     "shell.execute_reply": "2020-10-06T05:23:39.355070Z"
    },
    "papermill": {
     "duration": 7.328374,
     "end_time": "2020-10-06T05:23:39.355938",
     "exception": false,
     "start_time": "2020-10-06T05:23:32.027564",
     "status": "completed"
    },
    "tags": []
   },
   "outputs": [
    {
     "name": "stdout",
     "output_type": "stream",
     "text": [
      "Optimization terminated successfully.\n",
      "         Current function value: 0.216046\n",
      "         Iterations: 32\n",
      "         Function evaluations: 72\n"
     ]
    },
    {
     "data": {
      "text/plain": [
       "array([88.06108475])"
      ]
     },
     "execution_count": 12,
     "metadata": {},
     "output_type": "execute_result"
    }
   ],
   "source": [
    "res = minimize(lambda x: np.sqrt(cross_val_score(Ridge(alpha=x,fit_intercept = False,normalize=True), X2[:,select_col2], y2, cv=5,scoring = lambda estimator,x,y: ((estimator.predict(x)-y)**2).mean()).mean())\n",
    ", [100], method='nelder-mead',options={'xatol': 1e-8, 'disp': True})\n",
    "clf2 = Ridge(alpha=res.x,fit_intercept = False,normalize=True)\n",
    "\n",
    "# res = minimize_scalar(lambda x: np.sqrt(cross_val_score(LinearSVR(C=x,fit_intercept=False,dual=False,loss='squared_epsilon_insensitive'), X2[:,select_col2], y2, cv=5,scoring = lambda estimator,x,y: ((estimator.predict(x)-y)**2).mean()).mean())\n",
    "# , [1.0], method='Bounded',bounds=(0.0,1e3),options={'xatol': 1e-8, 'disp': True})\n",
    "# clf2 = LinearSVR(C=res.x,fit_intercept=False,dual=False,loss='squared_epsilon_insensitive')\n",
    "\n",
    "res.x"
   ]
  },
  {
   "cell_type": "code",
   "execution_count": 13,
   "metadata": {
    "execution": {
     "iopub.execute_input": "2020-10-06T05:23:39.549484Z",
     "iopub.status.busy": "2020-10-06T05:23:39.547673Z",
     "iopub.status.idle": "2020-10-06T05:23:39.601126Z",
     "shell.execute_reply": "2020-10-06T05:23:39.600448Z"
    },
    "papermill": {
     "duration": 0.151346,
     "end_time": "2020-10-06T05:23:39.601259",
     "exception": false,
     "start_time": "2020-10-06T05:23:39.449913",
     "status": "completed"
    },
    "tags": []
   },
   "outputs": [
    {
     "data": {
      "text/plain": [
       "(array([ 0.09624703,  0.12979714,  0.04880182,  0.06489577,  0.06648062,\n",
       "         0.04668762,  0.11819444,  0.08209066,  0.0965125 ,  0.14590913,\n",
       "        -0.03109661,  0.09648562,  0.03851601,  0.05760527,  0.03439749,\n",
       "         0.05116822, -0.04507748,  0.03436544, -0.02607245, -0.07528783,\n",
       "         0.03450136, -0.04040005]),\n",
       " 0.0)"
      ]
     },
     "execution_count": 13,
     "metadata": {},
     "output_type": "execute_result"
    }
   ],
   "source": [
    "clf2.fit(X2[:,select_col2],y2)\n",
    "y2_pred = clf2.predict(X2[:,select_col2])\n",
    "l2_weights = clf2.coef_\n",
    "l2_intercept = clf2.intercept_\n",
    "l2_weights,l2_intercept"
   ]
  },
  {
   "cell_type": "code",
   "execution_count": 14,
   "metadata": {
    "execution": {
     "iopub.execute_input": "2020-10-06T05:23:39.797288Z",
     "iopub.status.busy": "2020-10-06T05:23:39.790798Z",
     "iopub.status.idle": "2020-10-06T05:23:48.560661Z",
     "shell.execute_reply": "2020-10-06T05:23:48.561379Z"
    },
    "papermill": {
     "duration": 8.868496,
     "end_time": "2020-10-06T05:23:48.561549",
     "exception": false,
     "start_time": "2020-10-06T05:23:39.693053",
     "status": "completed"
    },
    "tags": []
   },
   "outputs": [
    {
     "name": "stdout",
     "output_type": "stream",
     "text": [
      "Optimization terminated successfully.\n",
      "         Current function value: 0.174870\n",
      "         Iterations: 36\n",
      "         Function evaluations: 82\n"
     ]
    },
    {
     "data": {
      "text/plain": [
       "array([53.99352789])"
      ]
     },
     "execution_count": 14,
     "metadata": {},
     "output_type": "execute_result"
    }
   ],
   "source": [
    "res = minimize(lambda x: np.sqrt(cross_val_score(Ridge(alpha=x,fit_intercept = False,normalize=True), X3[:,select_col3], y3, cv=5,scoring = lambda estimator,x,y: ((estimator.predict(x)-y)**2).mean()).mean())\n",
    ", [100], method='nelder-mead',options={'xatol': 1e-8, 'disp': True})\n",
    "clf3 = Ridge(alpha=res.x,fit_intercept = False,normalize=True)\n",
    "\n",
    "# res = minimize_scalar(lambda x: np.sqrt(cross_val_score(LinearSVR(C=x,fit_intercept=False,dual=False,loss='squared_epsilon_insensitive'), X3[:,select_col3], y3, cv=5,scoring = lambda estimator,x,y: ((estimator.predict(x)-y)**2).mean()).mean())\n",
    "# , [1.0], method='Bounded',bounds=(0.0,1e3),options={'xatol': 1e-8, 'disp': True})\n",
    "# clf3 = LinearSVR(C=res.x,fit_intercept=False,dual=False,loss='squared_epsilon_insensitive')\n",
    "\n",
    "res.x"
   ]
  },
  {
   "cell_type": "code",
   "execution_count": 15,
   "metadata": {
    "execution": {
     "iopub.execute_input": "2020-10-06T05:23:48.791407Z",
     "iopub.status.busy": "2020-10-06T05:23:48.790654Z",
     "iopub.status.idle": "2020-10-06T05:23:48.839719Z",
     "shell.execute_reply": "2020-10-06T05:23:48.840310Z"
    },
    "papermill": {
     "duration": 0.165136,
     "end_time": "2020-10-06T05:23:48.840461",
     "exception": false,
     "start_time": "2020-10-06T05:23:48.675325",
     "status": "completed"
    },
    "tags": []
   },
   "outputs": [
    {
     "data": {
      "text/plain": [
       "(array([ 0.11682189,  0.15391301,  0.04828973,  0.10971558,  0.07034351,\n",
       "         0.04834893,  0.11166402,  0.06448628,  0.09155653,  0.13718822,\n",
       "         0.02184994,  0.03321369, -0.05974202,  0.07816287,  0.09002974,\n",
       "         0.08739725,  0.01525135, -0.03490106, -0.03275975, -0.03843358,\n",
       "        -0.03137855, -0.05951804]),\n",
       " 0.0)"
      ]
     },
     "execution_count": 15,
     "metadata": {},
     "output_type": "execute_result"
    }
   ],
   "source": [
    "clf3.fit(X3[:,select_col3],y3)\n",
    "y3_pred = clf3.predict(X3[:,select_col3])\n",
    "l3_weights = clf3.coef_\n",
    "l3_intercept = clf3.intercept_\n",
    "l3_weights,l3_intercept"
   ]
  },
  {
   "cell_type": "code",
   "execution_count": 16,
   "metadata": {
    "execution": {
     "iopub.execute_input": "2020-10-06T05:23:49.041293Z",
     "iopub.status.busy": "2020-10-06T05:23:49.040549Z",
     "iopub.status.idle": "2020-10-06T05:23:49.138041Z",
     "shell.execute_reply": "2020-10-06T05:23:49.137479Z"
    },
    "papermill": {
     "duration": 0.200649,
     "end_time": "2020-10-06T05:23:49.138164",
     "exception": false,
     "start_time": "2020-10-06T05:23:48.937515",
     "status": "completed"
    },
    "tags": []
   },
   "outputs": [
    {
     "data": {
      "text/plain": [
       "(0.17036453700582446, 0.17056713993445663)"
      ]
     },
     "execution_count": 16,
     "metadata": {},
     "output_type": "execute_result"
    }
   ],
   "source": [
    "l1_score = np.sqrt(np.mean((y1_pred-y1)**2))\n",
    "l1_cv_score = np.sqrt(cross_val_score(clf1, X1[:,select_col1], y1, cv=5,scoring = lambda estimator,x,y: ((estimator.predict(x)-y)**2).mean()).mean())\n",
    "l1_score,l1_cv_score"
   ]
  },
  {
   "cell_type": "code",
   "execution_count": 17,
   "metadata": {
    "execution": {
     "iopub.execute_input": "2020-10-06T05:23:49.342879Z",
     "iopub.status.busy": "2020-10-06T05:23:49.342108Z",
     "iopub.status.idle": "2020-10-06T05:23:49.448716Z",
     "shell.execute_reply": "2020-10-06T05:23:49.448095Z"
    },
    "papermill": {
     "duration": 0.213574,
     "end_time": "2020-10-06T05:23:49.448857",
     "exception": false,
     "start_time": "2020-10-06T05:23:49.235283",
     "status": "completed"
    },
    "tags": []
   },
   "outputs": [
    {
     "data": {
      "text/plain": [
       "(0.21579818817510663, 0.2160462590788587)"
      ]
     },
     "execution_count": 17,
     "metadata": {},
     "output_type": "execute_result"
    }
   ],
   "source": [
    "l2_score = np.sqrt(np.mean((y2_pred-y2)**2))\n",
    "l2_cv_score = np.sqrt(cross_val_score(clf2, X2[:,select_col2], y2, cv=5,scoring = lambda estimator,x,y: ((estimator.predict(x)-y)**2).mean()).mean())\n",
    "l2_score,l2_cv_score"
   ]
  },
  {
   "cell_type": "code",
   "execution_count": 18,
   "metadata": {
    "execution": {
     "iopub.execute_input": "2020-10-06T05:23:49.655076Z",
     "iopub.status.busy": "2020-10-06T05:23:49.653239Z",
     "iopub.status.idle": "2020-10-06T05:23:49.760099Z",
     "shell.execute_reply": "2020-10-06T05:23:49.760715Z"
    },
    "papermill": {
     "duration": 0.214333,
     "end_time": "2020-10-06T05:23:49.760871",
     "exception": false,
     "start_time": "2020-10-06T05:23:49.546538",
     "status": "completed"
    },
    "tags": []
   },
   "outputs": [
    {
     "data": {
      "text/plain": [
       "(0.17465531836878437, 0.17486954321789988)"
      ]
     },
     "execution_count": 18,
     "metadata": {},
     "output_type": "execute_result"
    }
   ],
   "source": [
    "l3_score = np.sqrt(np.mean((y3_pred-y3)**2))\n",
    "l3_cv_score = np.sqrt(cross_val_score(clf3, X3[:,select_col3], y3, cv=5,scoring = lambda estimator,x,y: ((estimator.predict(x)-y)**2).mean()).mean())\n",
    "l3_score,l3_cv_score"
   ]
  },
  {
   "cell_type": "code",
   "execution_count": 19,
   "metadata": {
    "execution": {
     "iopub.execute_input": "2020-10-06T05:23:49.974815Z",
     "iopub.status.busy": "2020-10-06T05:23:49.973840Z",
     "iopub.status.idle": "2020-10-06T05:23:49.978662Z",
     "shell.execute_reply": "2020-10-06T05:23:49.977812Z"
    },
    "papermill": {
     "duration": 0.109291,
     "end_time": "2020-10-06T05:23:49.978810",
     "exception": false,
     "start_time": "2020-10-06T05:23:49.869519",
     "status": "completed"
    },
    "tags": []
   },
   "outputs": [
    {
     "data": {
      "text/plain": [
       "(0.18693934784990515, 0.1871609807437384)"
      ]
     },
     "execution_count": 19,
     "metadata": {},
     "output_type": "execute_result"
    }
   ],
   "source": [
    "(l1_score+l2_score+l3_score)/3,(l1_cv_score+l2_cv_score+l3_cv_score)/3 "
   ]
  },
  {
   "cell_type": "code",
   "execution_count": 20,
   "metadata": {
    "execution": {
     "iopub.execute_input": "2020-10-06T05:23:50.187905Z",
     "iopub.status.busy": "2020-10-06T05:23:50.187105Z",
     "iopub.status.idle": "2020-10-06T05:23:50.684033Z",
     "shell.execute_reply": "2020-10-06T05:23:50.683259Z"
    },
    "papermill": {
     "duration": 0.60611,
     "end_time": "2020-10-06T05:23:50.684156",
     "exception": false,
     "start_time": "2020-10-06T05:23:50.078046",
     "status": "completed"
    },
    "tags": []
   },
   "outputs": [],
   "source": [
    "ss = pd.read_csv(\"../input/stanford-covid-vaccine/sample_submission.csv\").set_index('id_seqpos')"
   ]
  },
  {
   "cell_type": "code",
   "execution_count": 21,
   "metadata": {
    "execution": {
     "iopub.execute_input": "2020-10-06T05:23:50.891378Z",
     "iopub.status.busy": "2020-10-06T05:23:50.890595Z",
     "iopub.status.idle": "2020-10-06T05:24:32.759359Z",
     "shell.execute_reply": "2020-10-06T05:24:32.759953Z"
    },
    "papermill": {
     "duration": 41.976786,
     "end_time": "2020-10-06T05:24:32.760105",
     "exception": false,
     "start_time": "2020-10-06T05:23:50.783319",
     "status": "completed"
    },
    "tags": []
   },
   "outputs": [
    {
     "data": {
      "text/plain": [
       "['../input/ensemble-predictions/submission_cnn_0.19768.csv',\n",
       " '../input/ensemble-predictions/submission_cnn_0.19798.csv',\n",
       " '../input/ensemble-predictions/submission_cnn_0.19868.csv',\n",
       " '../input/ensemble-predictions/submission_cnn_0.19886.csv',\n",
       " '../input/ensemble-predictions/submission_cnn_0.19926.csv',\n",
       " '../input/ensemble-predictions/submission_cnn_0.19936.csv',\n",
       " '../input/ensemble-predictions/submission_cnn_0.19949.csv',\n",
       " '../input/ensemble-predictions/submission_cnn_0.19983.csv',\n",
       " '../input/ensemble-predictions/submission_cnn_0.19985.csv',\n",
       " '../input/ensemble-predictions/submission_cnn_0.19999.csv',\n",
       " '../input/ensemble-predictions/submission_cnn_0.20047.csv',\n",
       " '../input/ensemble-predictions/submission_cnn_0.20053.csv',\n",
       " '../input/ensemble-predictions/submission_cnn_0.20075.csv',\n",
       " '../input/ensemble-predictions/submission_cnn_0.20087.csv',\n",
       " '../input/ensemble-predictions/submission_cnn_0.20092.csv',\n",
       " '../input/ensemble-predictions/submission_cnn_0.20117.csv',\n",
       " '../input/ensemble-predictions/submission_cnn_0.20145.csv',\n",
       " '../input/ensemble-predictions/submission_cnn_0.20283.csv',\n",
       " '../input/ensemble-predictions/submission_cnn_0.20305.csv',\n",
       " '../input/ensemble-predictions/submission_cnn_0.20328.csv',\n",
       " '../input/ensemble-predictions/submission_cnn_0.20378.csv',\n",
       " '../input/ensemble-predictions/submission_cnn_0.20384.csv',\n",
       " '../input/ensemble-predictions/submission_cnn_0.20388.csv',\n",
       " '../input/ensemble-predictions/submission_cnn_0.20390.csv',\n",
       " '../input/ensemble-predictions/submission_cnn_0.20423.csv',\n",
       " '../input/ensemble-predictions/submission_cnn_0.20525.csv',\n",
       " '../input/ensemble-predictions/submission_cnn_0.20591.csv',\n",
       " '../input/ensemble-predictions/submission_cnn_0.20759.csv',\n",
       " '../input/ensemble-predictions/submission_cnn_0.20763.csv',\n",
       " '../input/ensemble-predictions/submission_cnn_0.20794.csv',\n",
       " '../input/ensemble-predictions/submission_cnn_0.22935.csv',\n",
       " '../input/ensemble-predictions/submission_cnn_dangerous_0.20517.csv',\n",
       " '../input/ensemble-predictions/submission_cnn_dangerous_0.20971.csv',\n",
       " '../input/ensemble-predictions/submission_public.csv',\n",
       " '../input/ensemble-predictions/submission_public2.csv']"
      ]
     },
     "execution_count": 21,
     "metadata": {},
     "output_type": "execute_result"
    }
   ],
   "source": [
    "from glob import glob\n",
    "sub = []\n",
    "paths = sorted(glob(\"../input/ensemble-predictions/*csv\"))\n",
    "\n",
    "for path in paths:\n",
    "    df = pd.read_csv(path)\n",
    "    df = df.set_index('id_seqpos')[['reactivity','deg_Mg_pH10','deg_pH10','deg_Mg_50C','deg_50C']].loc[ss.index]\n",
    "    sub.append(df)\n",
    "paths"
   ]
  },
  {
   "cell_type": "code",
   "execution_count": 22,
   "metadata": {
    "execution": {
     "iopub.execute_input": "2020-10-06T05:24:32.965777Z",
     "iopub.status.busy": "2020-10-06T05:24:32.964704Z",
     "iopub.status.idle": "2020-10-06T05:24:32.969510Z",
     "shell.execute_reply": "2020-10-06T05:24:32.968784Z"
    },
    "papermill": {
     "duration": 0.109797,
     "end_time": "2020-10-06T05:24:32.969661",
     "exception": false,
     "start_time": "2020-10-06T05:24:32.859864",
     "status": "completed"
    },
    "tags": []
   },
   "outputs": [
    {
     "data": {
      "text/plain": [
       "array(['../input/ensemble-predictions/submission_cnn_0.19768.csv',\n",
       "       '../input/ensemble-predictions/submission_cnn_0.19798.csv',\n",
       "       '../input/ensemble-predictions/submission_cnn_0.19886.csv',\n",
       "       '../input/ensemble-predictions/submission_cnn_0.19926.csv',\n",
       "       '../input/ensemble-predictions/submission_cnn_0.19936.csv',\n",
       "       '../input/ensemble-predictions/submission_cnn_0.19983.csv',\n",
       "       '../input/ensemble-predictions/submission_cnn_0.19985.csv',\n",
       "       '../input/ensemble-predictions/submission_cnn_0.19999.csv',\n",
       "       '../input/ensemble-predictions/submission_cnn_0.20047.csv',\n",
       "       '../input/ensemble-predictions/submission_cnn_0.20053.csv',\n",
       "       '../input/ensemble-predictions/submission_cnn_0.20145.csv',\n",
       "       '../input/ensemble-predictions/submission_cnn_0.20283.csv',\n",
       "       '../input/ensemble-predictions/submission_cnn_0.20305.csv',\n",
       "       '../input/ensemble-predictions/submission_cnn_0.20423.csv',\n",
       "       '../input/ensemble-predictions/submission_cnn_0.20525.csv',\n",
       "       '../input/ensemble-predictions/submission_cnn_0.20591.csv',\n",
       "       '../input/ensemble-predictions/submission_cnn_0.22935.csv',\n",
       "       '../input/ensemble-predictions/submission_cnn_dangerous_0.20517.csv',\n",
       "       '../input/ensemble-predictions/submission_cnn_dangerous_0.20971.csv'],\n",
       "      dtype='<U66')"
      ]
     },
     "execution_count": 22,
     "metadata": {},
     "output_type": "execute_result"
    }
   ],
   "source": [
    "np.array(paths)[select_col1]"
   ]
  },
  {
   "cell_type": "code",
   "execution_count": 23,
   "metadata": {
    "execution": {
     "iopub.execute_input": "2020-10-06T05:24:33.177120Z",
     "iopub.status.busy": "2020-10-06T05:24:33.176411Z",
     "iopub.status.idle": "2020-10-06T05:24:33.181298Z",
     "shell.execute_reply": "2020-10-06T05:24:33.180597Z"
    },
    "papermill": {
     "duration": 0.111341,
     "end_time": "2020-10-06T05:24:33.181420",
     "exception": false,
     "start_time": "2020-10-06T05:24:33.070079",
     "status": "completed"
    },
    "tags": []
   },
   "outputs": [
    {
     "data": {
      "text/plain": [
       "array(['../input/ensemble-predictions/submission_cnn_0.19768.csv',\n",
       "       '../input/ensemble-predictions/submission_cnn_0.19798.csv',\n",
       "       '../input/ensemble-predictions/submission_cnn_0.19868.csv',\n",
       "       '../input/ensemble-predictions/submission_cnn_0.19886.csv',\n",
       "       '../input/ensemble-predictions/submission_cnn_0.19926.csv',\n",
       "       '../input/ensemble-predictions/submission_cnn_0.19936.csv',\n",
       "       '../input/ensemble-predictions/submission_cnn_0.19983.csv',\n",
       "       '../input/ensemble-predictions/submission_cnn_0.19985.csv',\n",
       "       '../input/ensemble-predictions/submission_cnn_0.19999.csv',\n",
       "       '../input/ensemble-predictions/submission_cnn_0.20047.csv',\n",
       "       '../input/ensemble-predictions/submission_cnn_0.20092.csv',\n",
       "       '../input/ensemble-predictions/submission_cnn_0.20145.csv',\n",
       "       '../input/ensemble-predictions/submission_cnn_0.20283.csv',\n",
       "       '../input/ensemble-predictions/submission_cnn_0.20305.csv',\n",
       "       '../input/ensemble-predictions/submission_cnn_0.20328.csv',\n",
       "       '../input/ensemble-predictions/submission_cnn_0.20388.csv',\n",
       "       '../input/ensemble-predictions/submission_cnn_0.20525.csv',\n",
       "       '../input/ensemble-predictions/submission_cnn_0.20591.csv',\n",
       "       '../input/ensemble-predictions/submission_cnn_0.20763.csv',\n",
       "       '../input/ensemble-predictions/submission_cnn_0.22935.csv',\n",
       "       '../input/ensemble-predictions/submission_cnn_dangerous_0.20517.csv',\n",
       "       '../input/ensemble-predictions/submission_cnn_dangerous_0.20971.csv'],\n",
       "      dtype='<U66')"
      ]
     },
     "execution_count": 23,
     "metadata": {},
     "output_type": "execute_result"
    }
   ],
   "source": [
    "np.array(paths)[select_col2]"
   ]
  },
  {
   "cell_type": "code",
   "execution_count": 24,
   "metadata": {
    "execution": {
     "iopub.execute_input": "2020-10-06T05:24:33.390125Z",
     "iopub.status.busy": "2020-10-06T05:24:33.389233Z",
     "iopub.status.idle": "2020-10-06T05:24:33.394140Z",
     "shell.execute_reply": "2020-10-06T05:24:33.393404Z"
    },
    "papermill": {
     "duration": 0.111177,
     "end_time": "2020-10-06T05:24:33.394288",
     "exception": false,
     "start_time": "2020-10-06T05:24:33.283111",
     "status": "completed"
    },
    "tags": []
   },
   "outputs": [
    {
     "data": {
      "text/plain": [
       "array(['../input/ensemble-predictions/submission_cnn_0.19768.csv',\n",
       "       '../input/ensemble-predictions/submission_cnn_0.19798.csv',\n",
       "       '../input/ensemble-predictions/submission_cnn_0.19868.csv',\n",
       "       '../input/ensemble-predictions/submission_cnn_0.19886.csv',\n",
       "       '../input/ensemble-predictions/submission_cnn_0.19926.csv',\n",
       "       '../input/ensemble-predictions/submission_cnn_0.19949.csv',\n",
       "       '../input/ensemble-predictions/submission_cnn_0.19983.csv',\n",
       "       '../input/ensemble-predictions/submission_cnn_0.19985.csv',\n",
       "       '../input/ensemble-predictions/submission_cnn_0.19999.csv',\n",
       "       '../input/ensemble-predictions/submission_cnn_0.20047.csv',\n",
       "       '../input/ensemble-predictions/submission_cnn_0.20053.csv',\n",
       "       '../input/ensemble-predictions/submission_cnn_0.20075.csv',\n",
       "       '../input/ensemble-predictions/submission_cnn_0.20092.csv',\n",
       "       '../input/ensemble-predictions/submission_cnn_0.20145.csv',\n",
       "       '../input/ensemble-predictions/submission_cnn_0.20305.csv',\n",
       "       '../input/ensemble-predictions/submission_cnn_0.20328.csv',\n",
       "       '../input/ensemble-predictions/submission_cnn_0.20388.csv',\n",
       "       '../input/ensemble-predictions/submission_cnn_0.20390.csv',\n",
       "       '../input/ensemble-predictions/submission_cnn_0.20759.csv',\n",
       "       '../input/ensemble-predictions/submission_cnn_0.20763.csv',\n",
       "       '../input/ensemble-predictions/submission_cnn_0.20794.csv',\n",
       "       '../input/ensemble-predictions/submission_cnn_0.22935.csv'],\n",
       "      dtype='<U66')"
      ]
     },
     "execution_count": 24,
     "metadata": {},
     "output_type": "execute_result"
    }
   ],
   "source": [
    "np.array(paths)[select_col3]"
   ]
  },
  {
   "cell_type": "code",
   "execution_count": 25,
   "metadata": {
    "execution": {
     "iopub.execute_input": "2020-10-06T05:24:33.603763Z",
     "iopub.status.busy": "2020-10-06T05:24:33.603043Z",
     "iopub.status.idle": "2020-10-06T05:24:33.626204Z",
     "shell.execute_reply": "2020-10-06T05:24:33.625449Z"
    },
    "papermill": {
     "duration": 0.130485,
     "end_time": "2020-10-06T05:24:33.626327",
     "exception": false,
     "start_time": "2020-10-06T05:24:33.495842",
     "status": "completed"
    },
    "tags": []
   },
   "outputs": [],
   "source": [
    "x = l1_intercept\n",
    "for i,col in enumerate(select_col1):\n",
    "    x += l1_weights[i] * sub[col]['reactivity'].values\n",
    "ss['reactivity'] = x"
   ]
  },
  {
   "cell_type": "code",
   "execution_count": 26,
   "metadata": {
    "execution": {
     "iopub.execute_input": "2020-10-06T05:24:33.835856Z",
     "iopub.status.busy": "2020-10-06T05:24:33.835035Z",
     "iopub.status.idle": "2020-10-06T05:24:33.859712Z",
     "shell.execute_reply": "2020-10-06T05:24:33.859086Z"
    },
    "papermill": {
     "duration": 0.131877,
     "end_time": "2020-10-06T05:24:33.859854",
     "exception": false,
     "start_time": "2020-10-06T05:24:33.727977",
     "status": "completed"
    },
    "tags": []
   },
   "outputs": [],
   "source": [
    "x = l2_intercept\n",
    "for i,col in enumerate(select_col2):\n",
    "    x += l2_weights[i] * sub[col]['deg_Mg_pH10'].values\n",
    "ss['deg_Mg_pH10'] = x"
   ]
  },
  {
   "cell_type": "code",
   "execution_count": 27,
   "metadata": {
    "execution": {
     "iopub.execute_input": "2020-10-06T05:24:34.071761Z",
     "iopub.status.busy": "2020-10-06T05:24:34.070953Z",
     "iopub.status.idle": "2020-10-06T05:24:34.096804Z",
     "shell.execute_reply": "2020-10-06T05:24:34.096207Z"
    },
    "papermill": {
     "duration": 0.134586,
     "end_time": "2020-10-06T05:24:34.096933",
     "exception": false,
     "start_time": "2020-10-06T05:24:33.962347",
     "status": "completed"
    },
    "tags": []
   },
   "outputs": [],
   "source": [
    "x = l3_intercept\n",
    "for i,col in enumerate(select_col3):\n",
    "    x += l3_weights[i] * sub[col]['deg_Mg_50C'].values\n",
    "ss['deg_Mg_50C'] = x"
   ]
  },
  {
   "cell_type": "code",
   "execution_count": 28,
   "metadata": {
    "execution": {
     "iopub.execute_input": "2020-10-06T05:24:34.316676Z",
     "iopub.status.busy": "2020-10-06T05:24:34.315614Z",
     "iopub.status.idle": "2020-10-06T05:24:34.327645Z",
     "shell.execute_reply": "2020-10-06T05:24:34.326911Z"
    },
    "papermill": {
     "duration": 0.127773,
     "end_time": "2020-10-06T05:24:34.327769",
     "exception": false,
     "start_time": "2020-10-06T05:24:34.199996",
     "status": "completed"
    },
    "tags": []
   },
   "outputs": [
    {
     "data": {
      "text/html": [
       "<div>\n",
       "<style scoped>\n",
       "    .dataframe tbody tr th:only-of-type {\n",
       "        vertical-align: middle;\n",
       "    }\n",
       "\n",
       "    .dataframe tbody tr th {\n",
       "        vertical-align: top;\n",
       "    }\n",
       "\n",
       "    .dataframe thead th {\n",
       "        text-align: right;\n",
       "    }\n",
       "</style>\n",
       "<table border=\"1\" class=\"dataframe\">\n",
       "  <thead>\n",
       "    <tr style=\"text-align: right;\">\n",
       "      <th></th>\n",
       "      <th>reactivity</th>\n",
       "      <th>deg_Mg_pH10</th>\n",
       "      <th>deg_pH10</th>\n",
       "      <th>deg_Mg_50C</th>\n",
       "      <th>deg_50C</th>\n",
       "    </tr>\n",
       "    <tr>\n",
       "      <th>id_seqpos</th>\n",
       "      <th></th>\n",
       "      <th></th>\n",
       "      <th></th>\n",
       "      <th></th>\n",
       "      <th></th>\n",
       "    </tr>\n",
       "  </thead>\n",
       "  <tbody>\n",
       "    <tr>\n",
       "      <th>id_00073f8be_0</th>\n",
       "      <td>0.792687</td>\n",
       "      <td>0.624065</td>\n",
       "      <td>0.0</td>\n",
       "      <td>0.536340</td>\n",
       "      <td>0.0</td>\n",
       "    </tr>\n",
       "    <tr>\n",
       "      <th>id_00073f8be_1</th>\n",
       "      <td>2.428278</td>\n",
       "      <td>3.237135</td>\n",
       "      <td>0.0</td>\n",
       "      <td>3.218790</td>\n",
       "      <td>0.0</td>\n",
       "    </tr>\n",
       "    <tr>\n",
       "      <th>id_00073f8be_2</th>\n",
       "      <td>1.714191</td>\n",
       "      <td>0.624565</td>\n",
       "      <td>0.0</td>\n",
       "      <td>0.684638</td>\n",
       "      <td>0.0</td>\n",
       "    </tr>\n",
       "    <tr>\n",
       "      <th>id_00073f8be_3</th>\n",
       "      <td>1.318104</td>\n",
       "      <td>1.154631</td>\n",
       "      <td>0.0</td>\n",
       "      <td>1.666085</td>\n",
       "      <td>0.0</td>\n",
       "    </tr>\n",
       "    <tr>\n",
       "      <th>id_00073f8be_4</th>\n",
       "      <td>0.766394</td>\n",
       "      <td>0.574457</td>\n",
       "      <td>0.0</td>\n",
       "      <td>0.829680</td>\n",
       "      <td>0.0</td>\n",
       "    </tr>\n",
       "    <tr>\n",
       "      <th>...</th>\n",
       "      <td>...</td>\n",
       "      <td>...</td>\n",
       "      <td>...</td>\n",
       "      <td>...</td>\n",
       "      <td>...</td>\n",
       "    </tr>\n",
       "    <tr>\n",
       "      <th>id_ffda94f24_125</th>\n",
       "      <td>1.213479</td>\n",
       "      <td>-0.059627</td>\n",
       "      <td>0.0</td>\n",
       "      <td>0.256124</td>\n",
       "      <td>0.0</td>\n",
       "    </tr>\n",
       "    <tr>\n",
       "      <th>id_ffda94f24_126</th>\n",
       "      <td>1.232491</td>\n",
       "      <td>0.100564</td>\n",
       "      <td>0.0</td>\n",
       "      <td>0.538518</td>\n",
       "      <td>0.0</td>\n",
       "    </tr>\n",
       "    <tr>\n",
       "      <th>id_ffda94f24_127</th>\n",
       "      <td>1.307839</td>\n",
       "      <td>0.062769</td>\n",
       "      <td>0.0</td>\n",
       "      <td>0.597884</td>\n",
       "      <td>0.0</td>\n",
       "    </tr>\n",
       "    <tr>\n",
       "      <th>id_ffda94f24_128</th>\n",
       "      <td>1.059298</td>\n",
       "      <td>0.304122</td>\n",
       "      <td>0.0</td>\n",
       "      <td>0.638930</td>\n",
       "      <td>0.0</td>\n",
       "    </tr>\n",
       "    <tr>\n",
       "      <th>id_ffda94f24_129</th>\n",
       "      <td>0.812332</td>\n",
       "      <td>0.456110</td>\n",
       "      <td>0.0</td>\n",
       "      <td>0.778235</td>\n",
       "      <td>0.0</td>\n",
       "    </tr>\n",
       "  </tbody>\n",
       "</table>\n",
       "<p>457953 rows × 5 columns</p>\n",
       "</div>"
      ],
      "text/plain": [
       "                  reactivity  deg_Mg_pH10  deg_pH10  deg_Mg_50C  deg_50C\n",
       "id_seqpos                                                               \n",
       "id_00073f8be_0      0.792687     0.624065       0.0    0.536340      0.0\n",
       "id_00073f8be_1      2.428278     3.237135       0.0    3.218790      0.0\n",
       "id_00073f8be_2      1.714191     0.624565       0.0    0.684638      0.0\n",
       "id_00073f8be_3      1.318104     1.154631       0.0    1.666085      0.0\n",
       "id_00073f8be_4      0.766394     0.574457       0.0    0.829680      0.0\n",
       "...                      ...          ...       ...         ...      ...\n",
       "id_ffda94f24_125    1.213479    -0.059627       0.0    0.256124      0.0\n",
       "id_ffda94f24_126    1.232491     0.100564       0.0    0.538518      0.0\n",
       "id_ffda94f24_127    1.307839     0.062769       0.0    0.597884      0.0\n",
       "id_ffda94f24_128    1.059298     0.304122       0.0    0.638930      0.0\n",
       "id_ffda94f24_129    0.812332     0.456110       0.0    0.778235      0.0\n",
       "\n",
       "[457953 rows x 5 columns]"
      ]
     },
     "execution_count": 28,
     "metadata": {},
     "output_type": "execute_result"
    }
   ],
   "source": [
    "ss"
   ]
  },
  {
   "cell_type": "code",
   "execution_count": 29,
   "metadata": {
    "execution": {
     "iopub.execute_input": "2020-10-06T05:24:34.539739Z",
     "iopub.status.busy": "2020-10-06T05:24:34.538954Z",
     "iopub.status.idle": "2020-10-06T05:24:39.565940Z",
     "shell.execute_reply": "2020-10-06T05:24:39.565280Z"
    },
    "papermill": {
     "duration": 5.134813,
     "end_time": "2020-10-06T05:24:39.566065",
     "exception": false,
     "start_time": "2020-10-06T05:24:34.431252",
     "status": "completed"
    },
    "tags": []
   },
   "outputs": [],
   "source": [
    "ss.to_csv(\"submission.csv\",index=True)"
   ]
  },
  {
   "cell_type": "code",
   "execution_count": 30,
   "metadata": {
    "execution": {
     "iopub.execute_input": "2020-10-06T05:24:39.779921Z",
     "iopub.status.busy": "2020-10-06T05:24:39.778818Z",
     "iopub.status.idle": "2020-10-06T05:24:39.784297Z",
     "shell.execute_reply": "2020-10-06T05:24:39.783276Z"
    },
    "papermill": {
     "duration": 0.11526,
     "end_time": "2020-10-06T05:24:39.784483",
     "exception": false,
     "start_time": "2020-10-06T05:24:39.669223",
     "status": "completed"
    },
    "tags": []
   },
   "outputs": [
    {
     "data": {
      "text/plain": [
       "[0, 1, 3, 4, 5, 7, 8, 9, 10, 11, 16, 17, 18, 24, 25, 26, 30, 31, 32]"
      ]
     },
     "execution_count": 30,
     "metadata": {},
     "output_type": "execute_result"
    }
   ],
   "source": [
    "select_col1"
   ]
  },
  {
   "cell_type": "code",
   "execution_count": 31,
   "metadata": {
    "execution": {
     "iopub.execute_input": "2020-10-06T05:24:39.999704Z",
     "iopub.status.busy": "2020-10-06T05:24:39.998614Z",
     "iopub.status.idle": "2020-10-06T05:24:40.003330Z",
     "shell.execute_reply": "2020-10-06T05:24:40.002631Z"
    },
    "papermill": {
     "duration": 0.113435,
     "end_time": "2020-10-06T05:24:40.003459",
     "exception": false,
     "start_time": "2020-10-06T05:24:39.890024",
     "status": "completed"
    },
    "tags": []
   },
   "outputs": [
    {
     "data": {
      "text/plain": [
       "[0, 1, 2, 3, 4, 5, 7, 8, 9, 10, 14, 16, 17, 18, 19, 22, 25, 26, 28, 30, 31, 32]"
      ]
     },
     "execution_count": 31,
     "metadata": {},
     "output_type": "execute_result"
    }
   ],
   "source": [
    "select_col2"
   ]
  },
  {
   "cell_type": "code",
   "execution_count": 32,
   "metadata": {
    "execution": {
     "iopub.execute_input": "2020-10-06T05:24:40.219548Z",
     "iopub.status.busy": "2020-10-06T05:24:40.218492Z",
     "iopub.status.idle": "2020-10-06T05:24:40.223457Z",
     "shell.execute_reply": "2020-10-06T05:24:40.222723Z"
    },
    "papermill": {
     "duration": 0.115559,
     "end_time": "2020-10-06T05:24:40.223580",
     "exception": false,
     "start_time": "2020-10-06T05:24:40.108021",
     "status": "completed"
    },
    "tags": []
   },
   "outputs": [
    {
     "data": {
      "text/plain": [
       "[0, 1, 2, 3, 4, 6, 7, 8, 9, 10, 11, 12, 14, 16, 18, 19, 22, 23, 27, 28, 29, 30]"
      ]
     },
     "execution_count": 32,
     "metadata": {},
     "output_type": "execute_result"
    }
   ],
   "source": [
    "select_col3"
   ]
  },
  {
   "cell_type": "code",
   "execution_count": null,
   "metadata": {
    "papermill": {
     "duration": 0.104621,
     "end_time": "2020-10-06T05:24:40.433487",
     "exception": false,
     "start_time": "2020-10-06T05:24:40.328866",
     "status": "completed"
    },
    "tags": []
   },
   "outputs": [],
   "source": []
  }
 ],
 "metadata": {
  "kernelspec": {
   "display_name": "Python 3",
   "language": "python",
   "name": "python3"
  },
  "language_info": {
   "codemirror_mode": {
    "name": "ipython",
    "version": 3
   },
   "file_extension": ".py",
   "mimetype": "text/x-python",
   "name": "python",
   "nbconvert_exporter": "python",
   "pygments_lexer": "ipython3",
   "version": "3.7.6"
  },
  "papermill": {
   "duration": 227.516768,
   "end_time": "2020-10-06T05:24:40.646426",
   "environment_variables": {},
   "exception": null,
   "input_path": "__notebook__.ipynb",
   "output_path": "__notebook__.ipynb",
   "parameters": {},
   "start_time": "2020-10-06T05:20:53.129658",
   "version": "2.1.0"
  }
 },
 "nbformat": 4,
 "nbformat_minor": 4
}
